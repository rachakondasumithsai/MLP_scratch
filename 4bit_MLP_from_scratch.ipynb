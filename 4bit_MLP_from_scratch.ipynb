{
  "nbformat": 4,
  "nbformat_minor": 0,
  "metadata": {
    "colab": {
      "name": "4bit_MLP_from_scratch.ipynb",
      "provenance": [],
      "collapsed_sections": []
    },
    "kernelspec": {
      "name": "python3",
      "display_name": "Python 3"
    },
    "accelerator": "GPU"
  },
  "cells": [
    {
      "cell_type": "markdown",
      "metadata": {
        "id": "y4YSR7lIve5M"
      },
      "source": [
        "##Importing packages"
      ]
    },
    {
      "cell_type": "code",
      "metadata": {
        "id": "2zltte761EHt",
        "outputId": "1c57b19a-6976-47bf-a910-9824402435a6",
        "colab": {
          "base_uri": "https://localhost:8080/",
          "height": 52
        }
      },
      "source": [
        "!pip install mnist\n",
        "import numpy as np\n",
        "import matplotlib.pyplot as plt\n",
        "import mnist"
      ],
      "execution_count": 95,
      "outputs": [
        {
          "output_type": "stream",
          "text": [
            "Requirement already satisfied: mnist in /usr/local/lib/python3.6/dist-packages (0.2.2)\n",
            "Requirement already satisfied: numpy in /usr/local/lib/python3.6/dist-packages (from mnist) (1.18.5)\n"
          ],
          "name": "stdout"
        }
      ]
    },
    {
      "cell_type": "markdown",
      "metadata": {
        "id": "j5mAczutvnWi"
      },
      "source": [
        "##Loading Data"
      ]
    },
    {
      "cell_type": "code",
      "metadata": {
        "id": "XWDJDuty1ImB",
        "outputId": "d649a454-052c-43b1-8c6f-58082be9562f",
        "colab": {
          "base_uri": "https://localhost:8080/",
          "height": 122
        }
      },
      "source": [
        "train_images = mnist.train_images()\n",
        "train_labels = mnist.train_labels()\n",
        "test_images = mnist.test_images()\n",
        "test_labels = mnist.test_labels()\n",
        "\n",
        "print(train_images.shape)\n",
        "print(train_labels.shape)\n",
        "print(test_images.shape)\n",
        "print(test_labels.shape)\n",
        "\n",
        "train_images = train_images[:1024]\n",
        "print(train_images.shape)\n",
        "train_labels = train_labels[:1024]\n",
        "print(train_labels.shape)"
      ],
      "execution_count": 96,
      "outputs": [
        {
          "output_type": "stream",
          "text": [
            "(60000, 28, 28)\n",
            "(60000,)\n",
            "(10000, 28, 28)\n",
            "(10000,)\n",
            "(1024, 28, 28)\n",
            "(1024,)\n"
          ],
          "name": "stdout"
        }
      ]
    },
    {
      "cell_type": "markdown",
      "metadata": {
        "id": "AeUs8qFfvp1B"
      },
      "source": [
        "##Normalizing data"
      ]
    },
    {
      "cell_type": "code",
      "metadata": {
        "id": "9e829O8W3MU2"
      },
      "source": [
        "train_images = train_images.astype('float64')\n",
        "test_images = test_images.astype('float64')\n",
        "train_images /= 255\n",
        "test_images /= 255"
      ],
      "execution_count": 97,
      "outputs": []
    },
    {
      "cell_type": "markdown",
      "metadata": {
        "id": "bYo9DB7ZvxRv"
      },
      "source": [
        "##Flattening the data"
      ]
    },
    {
      "cell_type": "code",
      "metadata": {
        "id": "3MJiUOrd3Q13",
        "outputId": "2a14c41c-8a53-40a9-db24-a54c39141b11",
        "colab": {
          "base_uri": "https://localhost:8080/",
          "height": 70
        }
      },
      "source": [
        "feature_vector_length = train_images.shape[1]*train_images.shape[2]\n",
        "print(feature_vector_length)\n",
        "\n",
        "# Reshape the data - MLPs do not understand such things as '2D'.\n",
        "# Reshape to 28 x 28 pixels = 784 features\n",
        "train_images = train_images.reshape(train_images.shape[0], feature_vector_length)\n",
        "test_images = test_images.reshape(test_images.shape[0], feature_vector_length)\n",
        "print(train_images.shape)\n",
        "print(test_images.shape)"
      ],
      "execution_count": 98,
      "outputs": [
        {
          "output_type": "stream",
          "text": [
            "784\n",
            "(1024, 784)\n",
            "(10000, 784)\n"
          ],
          "name": "stdout"
        }
      ]
    },
    {
      "cell_type": "markdown",
      "metadata": {
        "id": "Sr1VaUi2v2E3"
      },
      "source": [
        "##Converting labels to decimal ascii value"
      ]
    },
    {
      "cell_type": "code",
      "metadata": {
        "id": "Z8mIcyglTZ7L"
      },
      "source": [
        "train_labels_ascii = np.copy(train_labels)\n",
        "for index, value in np.ndenumerate(train_labels_ascii):\n",
        "    train_labels_ascii[index] = ord(str(train_labels_ascii[index]))\n",
        "test_labels_ascii = np.copy(test_labels)\n",
        "for index, value in np.ndenumerate(test_labels_ascii):\n",
        "    test_labels_ascii[index] = ord(str(test_labels_ascii[index]))"
      ],
      "execution_count": 99,
      "outputs": []
    },
    {
      "cell_type": "code",
      "metadata": {
        "id": "dGbwxtPaTjEm",
        "outputId": "f72ca412-ad91-45af-a4af-8f69ea14f2aa",
        "colab": {
          "base_uri": "https://localhost:8080/",
          "height": 34
        }
      },
      "source": [
        "train_labels_ascii"
      ],
      "execution_count": 100,
      "outputs": [
        {
          "output_type": "execute_result",
          "data": {
            "text/plain": [
              "array([53, 48, 52, ..., 51, 55, 55], dtype=uint8)"
            ]
          },
          "metadata": {
            "tags": []
          },
          "execution_count": 100
        }
      ]
    },
    {
      "cell_type": "markdown",
      "metadata": {
        "id": "AdYUBe31v-aM"
      },
      "source": [
        "##Converting decimal ascii values to binary 6 bit"
      ]
    },
    {
      "cell_type": "code",
      "metadata": {
        "id": "5KGdBr4s3ZEV"
      },
      "source": [
        "vfunc = np.vectorize(lambda i: '{0:06b}'.format(i))\n",
        "binary_train_labels = vfunc(train_labels_ascii)\n",
        "binary_test_labels = vfunc(test_labels_ascii)"
      ],
      "execution_count": 101,
      "outputs": []
    },
    {
      "cell_type": "code",
      "metadata": {
        "id": "gSu0Uoj2Tvto",
        "outputId": "2ae3c0df-c3ef-47a4-ed38-53891a313085",
        "colab": {
          "base_uri": "https://localhost:8080/",
          "height": 52
        }
      },
      "source": [
        "binary_train_labels"
      ],
      "execution_count": 102,
      "outputs": [
        {
          "output_type": "execute_result",
          "data": {
            "text/plain": [
              "array(['110101', '110000', '110100', ..., '110011', '110111', '110111'],\n",
              "      dtype='<U6')"
            ]
          },
          "metadata": {
            "tags": []
          },
          "execution_count": 102
        }
      ]
    },
    {
      "cell_type": "markdown",
      "metadata": {
        "id": "C0AwjE98wGzT"
      },
      "source": [
        "##Dividing each bit as a column"
      ]
    },
    {
      "cell_type": "code",
      "metadata": {
        "id": "TvGepnV74Zn8"
      },
      "source": [
        "binary_train_labels = binary_train_labels.view('U1').reshape(binary_train_labels.shape[0],6)\n",
        "binary_test_labels = binary_test_labels.view('U1').reshape(binary_test_labels.shape[0],6)\n",
        "\n",
        "binary_train_labels = binary_train_labels.astype('int')\n",
        "binary_test_labels = binary_test_labels.astype('int')"
      ],
      "execution_count": 103,
      "outputs": []
    },
    {
      "cell_type": "code",
      "metadata": {
        "id": "mh8JucZ86nvT",
        "outputId": "67c12f99-f5f0-4d83-9287-9d3158d884fe",
        "colab": {
          "base_uri": "https://localhost:8080/",
          "height": 140
        }
      },
      "source": [
        "binary_train_labels"
      ],
      "execution_count": 104,
      "outputs": [
        {
          "output_type": "execute_result",
          "data": {
            "text/plain": [
              "array([[1, 1, 0, 1, 0, 1],\n",
              "       [1, 1, 0, 0, 0, 0],\n",
              "       [1, 1, 0, 1, 0, 0],\n",
              "       ...,\n",
              "       [1, 1, 0, 0, 1, 1],\n",
              "       [1, 1, 0, 1, 1, 1],\n",
              "       [1, 1, 0, 1, 1, 1]])"
            ]
          },
          "metadata": {
            "tags": []
          },
          "execution_count": 104
        }
      ]
    },
    {
      "cell_type": "markdown",
      "metadata": {
        "id": "0aCI0GD2wPcc"
      },
      "source": [
        "##Removing first 2 bits because of redundancy"
      ]
    },
    {
      "cell_type": "code",
      "metadata": {
        "id": "JTtcJ3guVTho"
      },
      "source": [
        "binary_train_labels = binary_train_labels[:,2:]\n",
        "binary_test_labels = binary_test_labels[:,2:]"
      ],
      "execution_count": 105,
      "outputs": []
    },
    {
      "cell_type": "code",
      "metadata": {
        "id": "SdZB2sOQVebj",
        "outputId": "2ea4347d-fa0a-4072-d41c-ff2a62e22cbb",
        "colab": {
          "base_uri": "https://localhost:8080/",
          "height": 34
        }
      },
      "source": [
        "binary_train_labels.shape"
      ],
      "execution_count": 107,
      "outputs": [
        {
          "output_type": "execute_result",
          "data": {
            "text/plain": [
              "(1024, 4)"
            ]
          },
          "metadata": {
            "tags": []
          },
          "execution_count": 107
        }
      ]
    },
    {
      "cell_type": "markdown",
      "metadata": {
        "id": "UAoym5zAcS2K"
      },
      "source": [
        "##Network implementation"
      ]
    },
    {
      "cell_type": "code",
      "metadata": {
        "id": "_Ox4I8wOEjl4",
        "outputId": "761bb9bd-1bcd-485b-a5dd-ba347379c2f3",
        "colab": {
          "base_uri": "https://localhost:8080/",
          "height": 1000
        }
      },
      "source": [
        "import numpy as np\n",
        "import matplotlib.pyplot as plt\n",
        "\n",
        "# X=train_images[:2000]\n",
        "# Y=binary_train_labels[:2000]\n",
        "\n",
        "X=train_images\n",
        "Y=binary_train_labels\n",
        "\n",
        "# model specifications\n",
        "Ni=784; Nh1=392; Nh2=196; No=4;\n",
        "\n",
        "#parameter and array initialization\n",
        "Ntrials=100\n",
        "wh1=np.random.randn(784,392); dwh1=np.zeros(wh1.shape)\n",
        "wh2=np.random.randn(392,196); dwh2=np.zeros(wh2.shape) \n",
        "wo=np.random.randn(196,4); dwo=np.zeros(wo.shape) \n",
        "error=np.array([])\n",
        "loss = np.array([])\n",
        "\n",
        "init_wh1 = wh1\n",
        "init_wh2 = wh2\n",
        "init_wo = wo\n",
        "\n",
        "for trial in range(Ntrials):\n",
        "    h1=1/(1+np.exp(-(X.dot(wh1)))) #hidden activation for all pattern y=1/(1+np.exp(-X.dot(wo)))\n",
        "    h2=1/(1+np.exp(-(h1.dot(wh2))))\n",
        "    y=1/(1+np.exp(-(h2.dot(wo)))) #output for all pattern y=1/(1+np.exp(-X.dot(wo)))\n",
        "\n",
        "    do=y*(1-y)*(Y-y)  # delta output\n",
        "    dh2=h2*(1-h2)*(do.dot(wo.T)) #(do@wo.transpose())  # delta backpropagated  \n",
        "    dh1=h1*(1-h1)*(dh2.dot(wh2.T))\n",
        "\n",
        "    # update weights with momentum\n",
        "    dwo=0.9*dwo+h2.T.dot(do) #@do  #dwo=0.9*dwo+((X.T).dot(do)) #do@X.T\n",
        "    wo=wo+0.005*dwo\n",
        "    dwh2=0.9*dwh2+(h1.T.dot(dh2))\n",
        "    wh2=wh2 + 0.005*dwh2\n",
        "    dwh1=0.9*dwh1+(X.T.dot(dh1))\n",
        "    wh1=wh1 + 0.005*dwh1\n",
        "    \n",
        "    error=np.append(error,np.sum(abs(Y-y))/X.shape[0])\n",
        "    loss=np.append(loss,np.sum((Y-y)**2)/X.shape[0])\n",
        "    print('MSE for ', trial, ' = ', loss[trial])\n",
        "\n"
      ],
      "execution_count": 120,
      "outputs": [
        {
          "output_type": "stream",
          "text": [
            "MSE for  0  =  1.3826630130206499\n",
            "MSE for  1  =  1.3024722563629854\n",
            "MSE for  2  =  1.21353758771241\n",
            "MSE for  3  =  1.1179100272842526\n",
            "MSE for  4  =  0.9828133123986134\n",
            "MSE for  5  =  0.9039206219413338\n",
            "MSE for  6  =  0.8103287216376294\n",
            "MSE for  7  =  0.7327792296662508\n",
            "MSE for  8  =  0.6957603311574725\n",
            "MSE for  9  =  0.665171343646587\n",
            "MSE for  10  =  0.5779898813220181\n",
            "MSE for  11  =  0.5924357061631551\n",
            "MSE for  12  =  0.6416121492930528\n",
            "MSE for  13  =  0.6126649121226734\n",
            "MSE for  14  =  0.4533935496588445\n",
            "MSE for  15  =  0.5756300203568512\n",
            "MSE for  16  =  0.5355545131192577\n",
            "MSE for  17  =  0.6128093662976056\n",
            "MSE for  18  =  0.5211011443077547\n",
            "MSE for  19  =  0.3817354263841404\n",
            "MSE for  20  =  0.583860128546039\n",
            "MSE for  21  =  0.36495859197970926\n",
            "MSE for  22  =  0.41346206823231246\n",
            "MSE for  23  =  0.44863156043384733\n",
            "MSE for  24  =  0.39716098396838256\n",
            "MSE for  25  =  0.3316092683374443\n",
            "MSE for  26  =  0.38728911875544214\n",
            "MSE for  27  =  0.3564210046916454\n",
            "MSE for  28  =  0.3133102128283438\n",
            "MSE for  29  =  0.32859307846665187\n",
            "MSE for  30  =  0.3330180819791406\n",
            "MSE for  31  =  0.31254358933445625\n",
            "MSE for  32  =  0.2902245778257536\n",
            "MSE for  33  =  0.2859665542922928\n",
            "MSE for  34  =  0.29091027610919096\n",
            "MSE for  35  =  0.28214342227115036\n",
            "MSE for  36  =  0.26571119783912156\n",
            "MSE for  37  =  0.2610299959870013\n",
            "MSE for  38  =  0.2633709177804913\n",
            "MSE for  39  =  0.24948963159172582\n",
            "MSE for  40  =  0.24528394015993774\n",
            "MSE for  41  =  0.24675621671213965\n",
            "MSE for  42  =  0.24242864635454514\n",
            "MSE for  43  =  0.23692077520363808\n",
            "MSE for  44  =  0.23470786820169645\n",
            "MSE for  45  =  0.23419541048004094\n",
            "MSE for  46  =  0.2329431395089991\n",
            "MSE for  47  =  0.23002354597424715\n",
            "MSE for  48  =  0.2283966566028603\n",
            "MSE for  49  =  0.22742944266414217\n",
            "MSE for  50  =  0.22665103296441574\n",
            "MSE for  51  =  0.2257198567221274\n",
            "MSE for  52  =  0.22454648992063214\n",
            "MSE for  53  =  0.22352720057071884\n",
            "MSE for  54  =  0.22249322570329397\n",
            "MSE for  55  =  0.22132176638157125\n",
            "MSE for  56  =  0.2201818533273155\n",
            "MSE for  57  =  0.2191711351630243\n",
            "MSE for  58  =  0.2181812596329077\n",
            "MSE for  59  =  0.21717837322575254\n",
            "MSE for  60  =  0.21614830845861802\n",
            "MSE for  61  =  0.21520051340173738\n",
            "MSE for  62  =  0.2142158821706056\n",
            "MSE for  63  =  0.2131256312077153\n",
            "MSE for  64  =  0.21227460070064952\n",
            "MSE for  65  =  0.21178531991913513\n",
            "MSE for  66  =  0.21145696291288588\n",
            "MSE for  67  =  0.21108442468794403\n",
            "MSE for  68  =  0.2105462472005159\n",
            "MSE for  69  =  0.20981841419996705\n",
            "MSE for  70  =  0.20897667868936792\n",
            "MSE for  71  =  0.20821472102452832\n",
            "MSE for  72  =  0.20768851512428863\n",
            "MSE for  73  =  0.20736573090224547\n",
            "MSE for  74  =  0.20717542823871965\n",
            "MSE for  75  =  0.20705804718412124\n",
            "MSE for  76  =  0.20696232757061134\n",
            "MSE for  77  =  0.20686328236745583\n",
            "MSE for  78  =  0.20675722693024245\n",
            "MSE for  79  =  0.2066413718165398\n",
            "MSE for  80  =  0.20650617993378453\n",
            "MSE for  81  =  0.20634180121879664\n",
            "MSE for  82  =  0.2061460337202248\n",
            "MSE for  83  =  0.20592773241378637\n",
            "MSE for  84  =  0.20570088266399966\n",
            "MSE for  85  =  0.2054701788181999\n",
            "MSE for  86  =  0.20523261369786255\n",
            "MSE for  87  =  0.20500256307500953\n",
            "MSE for  88  =  0.2048103435653981\n",
            "MSE for  89  =  0.20466013426519064\n",
            "MSE for  90  =  0.20452152668160245\n",
            "MSE for  91  =  0.2043649038829159\n",
            "MSE for  92  =  0.20418648730916455\n",
            "MSE for  93  =  0.20400485845893307\n",
            "MSE for  94  =  0.20383974523698611\n",
            "MSE for  95  =  0.20369218116534205\n",
            "MSE for  96  =  0.20354179123456456\n",
            "MSE for  97  =  0.2033560275660707\n",
            "MSE for  98  =  0.20310607353906085\n",
            "MSE for  99  =  0.20283405140487165\n"
          ],
          "name": "stdout"
        }
      ]
    },
    {
      "cell_type": "markdown",
      "metadata": {
        "id": "Q-bDf9lE1UK7"
      },
      "source": [
        "##Plotting error"
      ]
    },
    {
      "cell_type": "code",
      "metadata": {
        "id": "ofeHrNrHp8D3",
        "outputId": "79f63b0d-0689-4498-fbac-8d19adeafd12",
        "colab": {
          "base_uri": "https://localhost:8080/",
          "height": 265
        }
      },
      "source": [
        "x = np.asarray([x for x in range(len(error))])\n",
        "plt.plot([x], [error], 'ro')\n",
        "plt.show()"
      ],
      "execution_count": 122,
      "outputs": [
        {
          "output_type": "display_data",
          "data": {
            "image/png": "[encoded data removed]",
            "application/pdf": "[encoded data removed]",
            "text/plain": [
              "<Figure size 432x288 with 1 Axes>"
            ]
          },
          "metadata": {
            "tags": [],
            "needs_background": "light"
          }
        }
      ]
    },
    {
      "cell_type": "code",
      "metadata": {
        "id": "5UUKxurwetB8",
        "outputId": "9d7ba1b1-2b74-444c-a21c-4754a757cda9",
        "colab": {
          "base_uri": "https://localhost:8080/",
          "height": 34
        }
      },
      "source": [
        "test = np.random.rand(10)\n",
        "test[test<0.5]"
      ],
      "execution_count": 123,
      "outputs": [
        {
          "output_type": "execute_result",
          "data": {
            "text/plain": [
              "array([0.02986787, 0.40552306, 0.28222964])"
            ]
          },
          "metadata": {
            "tags": []
          },
          "execution_count": 123
        }
      ]
    },
    {
      "cell_type": "code",
      "metadata": {
        "id": "-to0nWFSMJLY",
        "outputId": "6ef72920-ac20-482b-c536-5ac81bb856d1",
        "colab": {
          "base_uri": "https://localhost:8080/",
          "height": 140
        }
      },
      "source": [
        "np.where(y>0.5, 1, 0)"
      ],
      "execution_count": 124,
      "outputs": [
        {
          "output_type": "execute_result",
          "data": {
            "text/plain": [
              "array([[0, 1, 0, 1],\n",
              "       [0, 0, 0, 0],\n",
              "       [0, 1, 0, 0],\n",
              "       ...,\n",
              "       [0, 0, 1, 1],\n",
              "       [0, 1, 1, 1],\n",
              "       [0, 1, 1, 1]])"
            ]
          },
          "metadata": {
            "tags": []
          },
          "execution_count": 124
        }
      ]
    },
    {
      "cell_type": "code",
      "metadata": {
        "id": "xRZT2t0Ero5L",
        "outputId": "de58938c-43d4-4294-ee57-abec28fa9148",
        "colab": {
          "base_uri": "https://localhost:8080/",
          "height": 140
        }
      },
      "source": [
        "binary_train_labels"
      ],
      "execution_count": 125,
      "outputs": [
        {
          "output_type": "execute_result",
          "data": {
            "text/plain": [
              "array([[0, 1, 0, 1],\n",
              "       [0, 0, 0, 0],\n",
              "       [0, 1, 0, 0],\n",
              "       ...,\n",
              "       [0, 0, 1, 1],\n",
              "       [0, 1, 1, 1],\n",
              "       [0, 1, 1, 1]])"
            ]
          },
          "metadata": {
            "tags": []
          },
          "execution_count": 125
        }
      ]
    },
    {
      "cell_type": "code",
      "metadata": {
        "id": "pdOEYZBpwj47",
        "outputId": "5412c454-6e76-4715-ba00-d62fe7276417",
        "colab": {
          "base_uri": "https://localhost:8080/",
          "height": 140
        }
      },
      "source": [
        "np.where(y>0.5, 1, 0) - Y"
      ],
      "execution_count": 126,
      "outputs": [
        {
          "output_type": "execute_result",
          "data": {
            "text/plain": [
              "array([[0, 0, 0, 0],\n",
              "       [0, 0, 0, 0],\n",
              "       [0, 0, 0, 0],\n",
              "       ...,\n",
              "       [0, 0, 0, 0],\n",
              "       [0, 0, 0, 0],\n",
              "       [0, 0, 0, 0]])"
            ]
          },
          "metadata": {
            "tags": []
          },
          "execution_count": 126
        }
      ]
    },
    {
      "cell_type": "code",
      "metadata": {
        "id": "PjfU1fJErjcs",
        "outputId": "306cdc6a-2c93-4c93-a1ac-9814a6257e6e",
        "colab": {
          "base_uri": "https://localhost:8080/",
          "height": 282
        }
      },
      "source": [
        "test = X[0, :].T.reshape([28, 28]);\n",
        "plt.gray()\n",
        "plt.imshow(test)"
      ],
      "execution_count": 127,
      "outputs": [
        {
          "output_type": "execute_result",
          "data": {
            "text/plain": [
              "<matplotlib.image.AxesImage at 0x7f8bfbb9b278>"
            ]
          },
          "metadata": {
            "tags": []
          },
          "execution_count": 127
        },
        {
          "output_type": "display_data",
          "data": {
            "image/png": "[encoded data removed]",
            "application/pdf": "[encoded data removed]",
            "text/plain": [
              "<Figure size 432x288 with 1 Axes>"
            ]
          },
          "metadata": {
            "tags": [],
            "needs_background": "light"
          }
        }
      ]
    },
    {
      "cell_type": "code",
      "metadata": {
        "id": "R4JrgYC1HVGr",
        "outputId": "51f7b5f3-0757-4fab-8be8-01e61a85be30",
        "colab": {
          "base_uri": "https://localhost:8080/",
          "height": 541
        }
      },
      "source": [
        "from IPython.display import set_matplotlib_formats\n",
        "set_matplotlib_formats('pdf', 'png')\n",
        "\n",
        "plt.xlabel(\"Iteration\")\n",
        "plt.ylabel(\"Absolute difference\")\n",
        "plt.plot(error)\n",
        "plt.show()\n",
        "plt.xlabel(\"Iteration\")\n",
        "plt.ylabel(\"mean square error\")\n",
        "plt.plot(loss)\n",
        "plt.show()"
      ],
      "execution_count": 128,
      "outputs": [
        {
          "output_type": "display_data",
          "data": {
            "image/png": "[encoded data removed]",
            "application/pdf": "[encoded data removed]",
            "text/plain": [
              "<Figure size 432x288 with 1 Axes>"
            ]
          },
          "metadata": {
            "tags": [],
            "needs_background": "light"
          }
        },
        {
          "output_type": "display_data",
          "data": {
            "image/png": "[encoded data removed]",
            "application/pdf": "[encoded data removed]",
            "text/plain": [
              "<Figure size 432x288 with 1 Axes>"
            ]
          },
          "metadata": {
            "tags": [],
            "needs_background": "light"
          }
        }
      ]
    },
    {
      "cell_type": "markdown",
      "metadata": {
        "id": "Zmsbckkj1X2p"
      },
      "source": [
        "##Testing noise on testdata"
      ]
    },
    {
      "cell_type": "code",
      "metadata": {
        "id": "DfZ11ybQiVQC",
        "outputId": "156c17fa-9dff-48f8-8f72-32bc7f60f3fc",
        "colab": {
          "base_uri": "https://localhost:8080/",
          "height": 282
        }
      },
      "source": [
        "#noise\n",
        "noise = np.random.normal(0, 1000, test_images.shape)\n",
        "noised_test_images = test_images + noise\n",
        "\n",
        "test = noised_test_images[0, :].reshape([28, 28]);\n",
        "plt.gray()\n",
        "plt.imshow(test)\n",
        "# plt.imshow(test_images[0,:].reshape([28,28]))"
      ],
      "execution_count": 130,
      "outputs": [
        {
          "output_type": "execute_result",
          "data": {
            "text/plain": [
              "<matplotlib.image.AxesImage at 0x7f8bfba73278>"
            ]
          },
          "metadata": {
            "tags": []
          },
          "execution_count": 130
        },
        {
          "output_type": "display_data",
          "data": {
            "image/png": "[encoded data removed]",
            "application/pdf": "[encoded data removed]",
            "text/plain": [
              "<Figure size 432x288 with 1 Axes>"
            ]
          },
          "metadata": {
            "tags": [],
            "needs_background": "light"
          }
        }
      ]
    },
    {
      "cell_type": "code",
      "metadata": {
        "id": "CjWjSCCKjlA-",
        "outputId": "53e79faf-54cf-4cdc-b076-1a9f38a0fb70",
        "colab": {
          "base_uri": "https://localhost:8080/",
          "height": 34
        }
      },
      "source": [
        "np.where(yp[0]>0.5, 1, 0)"
      ],
      "execution_count": 131,
      "outputs": [
        {
          "output_type": "execute_result",
          "data": {
            "text/plain": [
              "array([0, 1, 0, 1])"
            ]
          },
          "metadata": {
            "tags": []
          },
          "execution_count": 131
        }
      ]
    },
    {
      "cell_type": "code",
      "metadata": {
        "id": "7wnmSYV2kLsm",
        "outputId": "6e40597d-04ab-4c19-b13b-824755e60fd2",
        "colab": {
          "base_uri": "https://localhost:8080/",
          "height": 34
        }
      },
      "source": [
        "test_labels_ascii"
      ],
      "execution_count": 132,
      "outputs": [
        {
          "output_type": "execute_result",
          "data": {
            "text/plain": [
              "array([55, 50, 49, ..., 52, 53, 54], dtype=uint8)"
            ]
          },
          "metadata": {
            "tags": []
          },
          "execution_count": 132
        }
      ]
    },
    {
      "cell_type": "code",
      "metadata": {
        "id": "us2gnVyokPrP",
        "outputId": "b4ada33a-8fd7-4c9f-c43a-40e7bfd933d3",
        "colab": {
          "base_uri": "https://localhost:8080/",
          "height": 140
        }
      },
      "source": [
        "binary_test_labels"
      ],
      "execution_count": 133,
      "outputs": [
        {
          "output_type": "execute_result",
          "data": {
            "text/plain": [
              "array([[0, 1, 1, 1],\n",
              "       [0, 0, 1, 0],\n",
              "       [0, 0, 0, 1],\n",
              "       ...,\n",
              "       [0, 1, 0, 0],\n",
              "       [0, 1, 0, 1],\n",
              "       [0, 1, 1, 0]])"
            ]
          },
          "metadata": {
            "tags": []
          },
          "execution_count": 133
        }
      ]
    },
    {
      "cell_type": "markdown",
      "metadata": {
        "id": "dzOXfBHg1bwO"
      },
      "source": [
        "## Testing noise on train data"
      ]
    },
    {
      "cell_type": "code",
      "metadata": {
        "id": "MkapjKWBHiBE",
        "outputId": "08be7540-7f76-422e-ea5a-fa3a356db763",
        "colab": {
          "base_uri": "https://localhost:8080/",
          "height": 70
        }
      },
      "source": [
        "#noise\n",
        "noise = np.random.normal(0, 1000, train_images.shape)\n",
        "noised_train_images = train_images + noise\n",
        "\n",
        "#prediction for noised images\n",
        "hp1=1/(1+np.exp(-noised_train_images.dot(wh1))) #h1p=1/(1+np.exp(-X.dot(wh1))\n",
        "hp2=1/(1+np.exp(-hp1.dot(wh2))) #h2p=1/(1+np.exp(-h1.dot(wh2)))\n",
        "yp=1/(1+np.exp(-hp2.dot(wo)))\n",
        "lossp=np.sum((binary_train_labels-yp)**2)/X.shape[0]\n",
        "lossp"
      ],
      "execution_count": 134,
      "outputs": [
        {
          "output_type": "stream",
          "text": [
            "/usr/local/lib/python3.6/dist-packages/ipykernel_launcher.py:6: RuntimeWarning: overflow encountered in exp\n",
            "  \n"
          ],
          "name": "stderr"
        },
        {
          "output_type": "execute_result",
          "data": {
            "text/plain": [
              "1.548378965014578"
            ]
          },
          "metadata": {
            "tags": []
          },
          "execution_count": 134
        }
      ]
    },
    {
      "cell_type": "code",
      "metadata": {
        "id": "viK_RDLth55j",
        "outputId": "6e4f2e5f-50d6-4f2e-d827-5e7419c79831",
        "colab": {
          "base_uri": "https://localhost:8080/",
          "height": 34
        }
      },
      "source": [
        "np.where(yp[0]>0.1, 1 , 0)"
      ],
      "execution_count": 135,
      "outputs": [
        {
          "output_type": "execute_result",
          "data": {
            "text/plain": [
              "array([0, 1, 0, 1])"
            ]
          },
          "metadata": {
            "tags": []
          },
          "execution_count": 135
        }
      ]
    },
    {
      "cell_type": "code",
      "metadata": {
        "id": "uKrxMbsSiEQ8",
        "outputId": "6882c12c-458e-4a1c-b18f-37b75078653d",
        "colab": {
          "base_uri": "https://localhost:8080/",
          "height": 34
        }
      },
      "source": [
        "binary_train_labels[0]"
      ],
      "execution_count": 136,
      "outputs": [
        {
          "output_type": "execute_result",
          "data": {
            "text/plain": [
              "array([0, 1, 0, 1])"
            ]
          },
          "metadata": {
            "tags": []
          },
          "execution_count": 136
        }
      ]
    },
    {
      "cell_type": "markdown",
      "metadata": {
        "id": "zqfskfSa1gUk"
      },
      "source": [
        "##Prediction for test data"
      ]
    },
    {
      "cell_type": "code",
      "metadata": {
        "id": "ykzg3zacHNXY",
        "outputId": "871e6d90-5217-4bd8-8485-f752ca8c9ba6",
        "colab": {
          "base_uri": "https://localhost:8080/",
          "height": 34
        }
      },
      "source": [
        "#prediction for test data\n",
        "hp1=1/(1+np.exp(-test_images.dot(wh1))) #h1p=1/(1+np.exp(-X.dot(wh1))\n",
        "hp2=1/(1+np.exp(-hp1.dot(wh2))) #h2p=1/(1+np.exp(-h1.dot(wh2)))\n",
        "yp=1/(1+np.exp(-hp2.dot(wo)))\n",
        "lossp=np.sum((binary_test_labels-yp)**2)/test_images.shape[0]\n",
        "lossp"
      ],
      "execution_count": 137,
      "outputs": [
        {
          "output_type": "execute_result",
          "data": {
            "text/plain": [
              "0.5381436970495191"
            ]
          },
          "metadata": {
            "tags": []
          },
          "execution_count": 137
        }
      ]
    },
    {
      "cell_type": "code",
      "metadata": {
        "id": "6DwrQbEhj6DK",
        "outputId": "ccdc38de-ccb7-469c-b3d0-27d3b5a51e43",
        "colab": {
          "base_uri": "https://localhost:8080/",
          "height": 34
        }
      },
      "source": [
        "np.where(yp[5]>0.5, 1, 0)"
      ],
      "execution_count": 138,
      "outputs": [
        {
          "output_type": "execute_result",
          "data": {
            "text/plain": [
              "array([0, 0, 0, 1])"
            ]
          },
          "metadata": {
            "tags": []
          },
          "execution_count": 138
        }
      ]
    },
    {
      "cell_type": "code",
      "metadata": {
        "id": "vcxCwWsckBmq",
        "outputId": "dcbe58e6-4a25-4a96-9720-473c83992419",
        "colab": {
          "base_uri": "https://localhost:8080/",
          "height": 34
        }
      },
      "source": [
        "binary_test_labels[5]"
      ],
      "execution_count": 139,
      "outputs": [
        {
          "output_type": "execute_result",
          "data": {
            "text/plain": [
              "array([0, 0, 0, 1])"
            ]
          },
          "metadata": {
            "tags": []
          },
          "execution_count": 139
        }
      ]
    },
    {
      "cell_type": "markdown",
      "metadata": {
        "id": "H0D1V8jH1kHP"
      },
      "source": [
        "## Addig noise for test images and predicting"
      ]
    },
    {
      "cell_type": "code",
      "metadata": {
        "id": "AG3auatx0bZS",
        "outputId": "fef4369a-669b-4b5d-fc83-5c2736f77134",
        "colab": {
          "base_uri": "https://localhost:8080/",
          "height": 70
        }
      },
      "source": [
        "#noise\n",
        "noise = np.random.normal(0, 1000, test_images.shape)\n",
        "noised_test_images = test_images + noise\n",
        "\n",
        "#prediction for noised images\n",
        "hp1=1/(1+np.exp(-noised_test_images.dot(wh1))) #h1p=1/(1+np.exp(-X.dot(wh1))\n",
        "hp2=1/(1+np.exp(-hp1.dot(wh2))) #h2p=1/(1+np.exp(-h1.dot(wh2)))\n",
        "yp=1/(1+np.exp(-hp2.dot(wo)))\n",
        "lossp=np.sum((binary_test_labels-yp)**2)/X.shape[0]\n",
        "lossp"
      ],
      "execution_count": 140,
      "outputs": [
        {
          "output_type": "stream",
          "text": [
            "/usr/local/lib/python3.6/dist-packages/ipykernel_launcher.py:6: RuntimeWarning: overflow encountered in exp\n",
            "  \n"
          ],
          "name": "stderr"
        },
        {
          "output_type": "execute_result",
          "data": {
            "text/plain": [
              "15.466155597407697"
            ]
          },
          "metadata": {
            "tags": []
          },
          "execution_count": 140
        }
      ]
    },
    {
      "cell_type": "code",
      "metadata": {
        "id": "kYCPtzo8MyQd",
        "outputId": "748013c9-aca9-44fa-a075-9d5fafd928ce",
        "colab": {
          "base_uri": "https://localhost:8080/",
          "height": 122
        }
      },
      "source": [
        "# plt.gray()\n",
        "# plt.imshow(X[:,pat])\n",
        "X[:,10]"
      ],
      "execution_count": null,
      "outputs": [
        {
          "output_type": "execute_result",
          "data": {
            "text/plain": [
              "array([0.        , 0.        , 0.        , 0.        , 0.        ,\n",
              "       0.        , 0.36862745, 0.99215686, 0.99215686, 0.41960784,\n",
              "       0.00392157, 0.        , 0.        , 0.        , 0.        ,\n",
              "       0.        , 0.        , 0.        , 0.        , 0.        ,\n",
              "       0.09411765, 0.83529412, 0.99215686, 0.99215686, 0.51764706,\n",
              "       0.        , 0.        , 0.        ])"
            ]
          },
          "metadata": {
            "tags": []
          },
          "execution_count": 43
        }
      ]
    },
    {
      "cell_type": "code",
      "metadata": {
        "id": "eaOnKvmmN-0_",
        "outputId": "34e395f6-8cc6-41ad-eabb-f530b82e933c",
        "colab": {
          "base_uri": "https://localhost:8080/",
          "height": 34
        }
      },
      "source": [
        "x.shape"
      ],
      "execution_count": null,
      "outputs": [
        {
          "output_type": "execute_result",
          "data": {
            "text/plain": [
              "(1024,)"
            ]
          },
          "metadata": {
            "tags": []
          },
          "execution_count": 48
        }
      ]
    },
    {
      "cell_type": "markdown",
      "metadata": {
        "id": "LsFsPNw91tkj"
      },
      "source": [
        "##Using only one hidden layer"
      ]
    },
    {
      "cell_type": "code",
      "metadata": {
        "id": "jdlcMWffhKRv",
        "outputId": "13cdafa3-004f-4f31-ec9b-8096c6b0484d",
        "colab": {
          "base_uri": "https://localhost:8080/",
          "height": 34
        }
      },
      "source": [
        "import numpy as np\n",
        "import matplotlib.pyplot as plt\n",
        "\n",
        "X=train_images\n",
        "Y=binary_train_labels\n",
        "X = X.T\n",
        "Y = Y.T\n",
        "# model specifications\n",
        "Ni=784; Nh=100; No=4;\n",
        "\n",
        "#parameter and array initialization\n",
        "Ntrials=100\n",
        "wh=np.random.randn(Nh,Ni); dwh=np.zeros(wh.shape) \n",
        "wo=np.random.randn(No,Nh); dwo=np.zeros(wo.shape) \n",
        "error=np.array([])\n",
        "\n",
        "for trial in range(Ntrials):     \n",
        "    h=1/(1+np.exp(-wh@X)) #hidden activation for all pattern\n",
        "    y=1/(1+np.exp(-wo@h)) #output for all pattern\n",
        "\n",
        "    do=y*(1-y)*(Y-y)  # delta output\n",
        "    dh=h*(1-h)*(wo.transpose()@do)  # delta backpropagated  \n",
        "    \n",
        "    # update weights with momentum\n",
        "    dwo=0.9*dwo+do@h.T\n",
        "    wo=wo+0.1*dwo\n",
        "    dwh=0.9*dwh+dh@X.T\n",
        "    wh=wh + 0.1*dwh\n",
        "    \n",
        "    error=np.append(error,np.sum(abs(Y-y)))"
      ],
      "execution_count": null,
      "outputs": [
        {
          "output_type": "stream",
          "text": [
            "/usr/local/lib/python3.6/dist-packages/ipykernel_launcher.py:19: RuntimeWarning: overflow encountered in exp\n"
          ],
          "name": "stderr"
        }
      ]
    },
    {
      "cell_type": "code",
      "metadata": {
        "id": "8wwn-EKVn2TD",
        "outputId": "b9b7592b-f3a3-46fb-9117-d2305d3fde76",
        "colab": {
          "base_uri": "https://localhost:8080/",
          "height": 34
        }
      },
      "source": [
        "X.shape"
      ],
      "execution_count": null,
      "outputs": [
        {
          "output_type": "execute_result",
          "data": {
            "text/plain": [
              "(784, 1024)"
            ]
          },
          "metadata": {
            "tags": []
          },
          "execution_count": 79
        }
      ]
    },
    {
      "cell_type": "code",
      "metadata": {
        "id": "u14xCPfTkWKU",
        "outputId": "4b9413e0-e0a2-4839-bee6-deaee23e1068",
        "colab": {
          "base_uri": "https://localhost:8080/",
          "height": 34
        }
      },
      "source": [
        "wh.shape"
      ],
      "execution_count": null,
      "outputs": [
        {
          "output_type": "execute_result",
          "data": {
            "text/plain": [
              "(100, 784)"
            ]
          },
          "metadata": {
            "tags": []
          },
          "execution_count": 80
        }
      ]
    },
    {
      "cell_type": "markdown",
      "metadata": {
        "id": "wq9qDFNet8nG"
      },
      "source": [
        "##LASSO Generalization L1"
      ]
    },
    {
      "cell_type": "code",
      "metadata": {
        "id": "49TMbYMgt-RO",
        "outputId": "1750ae29-f3f1-4ca0-e893-bbab0c3bc295",
        "colab": {
          "base_uri": "https://localhost:8080/",
          "height": 541
        }
      },
      "source": [
        "X=train_images\n",
        "Y=binary_train_labels\n",
        "\n",
        "# model specifications\n",
        "Ni=784; Nh1=392; Nh2=196; No=4;\n",
        "\n",
        "#parameter and array initialization\n",
        "Ntrials=100\n",
        "wh1=np.random.randn(784,392); dwh1=np.zeros(wh1.shape)\n",
        "wh2=np.random.randn(392,196); dwh2=np.zeros(wh2.shape) \n",
        "wo=np.random.randn(196,4); dwo=np.zeros(wo.shape) \n",
        "error=np.array([])\n",
        "loss = np.array([])\n",
        "\n",
        "init_wh1 = wh1\n",
        "init_wh2 = wh2\n",
        "init_wo = wo\n",
        "\n",
        "lambd = 0.02\n",
        "alpha = 0.005\n",
        "\n",
        "for trial in range(Ntrials):     \n",
        "    h1=1/(1+np.exp(-(X.dot(wh1)))) #hidden activation for all pattern y=1/(1+np.exp(-X.dot(wo)))\n",
        "    h2=1/(1+np.exp(-(h1.dot(wh2))))\n",
        "    y=1/(1+np.exp(-(h2.dot(wo)))) #output for all pattern y=1/(1+np.exp(-X.dot(wo)))\n",
        "\n",
        "    do=y*(1-y)*(Y-y)  # delta output\n",
        "    dh2=h2*(1-h2)*(do.dot(wo.T)) #(do@wo.transpose())  # delta backpropagated  \n",
        "    dh1=h1*(1-h1)*(dh2.dot(wh2.T))\n",
        "\n",
        "    # update weights with momentum\n",
        "    dwo=0.9*dwo+h2.T.dot(do) #@do  #dwo=0.9*dwo+((X.T).dot(do)) #do@X.T\n",
        "    wo=wo + (2*lambd*np.sign(wo)) + alpha*dwo # wo=wo+0.005*dwo\n",
        "    dwh2=0.9*dwh2+(h1.T.dot(dh2))\n",
        "    wh2=wh2 + (2*lambd*np.sign(wh2)) + alpha*dwh2 # wh2=wh2 + 0.005*dwh2\n",
        "    dwh1=0.9*dwh1+(X.T.dot(dh1))\n",
        "    wh1=wh1 + (2*lambd*np.sign(wh1)) + alpha*dwh1 # wh1=wh1 + 0.005*dwh1\n",
        "    \n",
        "    error=np.append(error,np.sum(abs(Y-y))/X.shape[0])\n",
        "    loss=np.append(loss,np.sum((Y-y)**2)/X.shape[0])\n",
        "\n",
        "from IPython.display import set_matplotlib_formats\n",
        "set_matplotlib_formats('pdf', 'png')\n",
        "\n",
        "plt.xlabel(\"Iteration\")\n",
        "plt.ylabel(\"Absolute difference\")\n",
        "plt.plot(error)\n",
        "plt.show()\n",
        "plt.xlabel(\"Iteration\")\n",
        "plt.ylabel(\"mean square error\")\n",
        "plt.plot(loss)\n",
        "plt.show()"
      ],
      "execution_count": 141,
      "outputs": [
        {
          "output_type": "display_data",
          "data": {
            "image/png": "[encoded data removed]",
            "application/pdf": "[encoded data removed]",
            "text/plain": [
              "<Figure size 432x288 with 1 Axes>"
            ]
          },
          "metadata": {
            "tags": [],
            "needs_background": "light"
          }
        },
        {
          "output_type": "display_data",
          "data": {
            "image/png": "[encoded data removed]",
            "application/pdf": "[encoded data removed]",
            "text/plain": [
              "<Figure size 432x288 with 1 Axes>"
            ]
          },
          "metadata": {
            "tags": [],
            "needs_background": "light"
          }
        }
      ]
    },
    {
      "cell_type": "markdown",
      "metadata": {
        "id": "f7PSKE4H3wC2"
      },
      "source": [
        "##Ridge Generalization L2"
      ]
    },
    {
      "cell_type": "code",
      "metadata": {
        "id": "AN1FlaGduv4M",
        "outputId": "57f3e1ed-7dc2-494c-c593-bb14ea3ca368",
        "colab": {
          "base_uri": "https://localhost:8080/",
          "height": 541
        }
      },
      "source": [
        "X=train_images\n",
        "Y=binary_train_labels\n",
        "\n",
        "# model specifications\n",
        "Ni=784; Nh1=392; Nh2=196; No=4;\n",
        "\n",
        "#parameter and array initialization\n",
        "Ntrials=100\n",
        "wh1=np.random.randn(784,392); dwh1=np.zeros(wh1.shape)\n",
        "wh2=np.random.randn(392,196); dwh2=np.zeros(wh2.shape) \n",
        "wo=np.random.randn(196,4); dwo=np.zeros(wo.shape) \n",
        "error=np.array([])\n",
        "loss = np.array([])\n",
        "\n",
        "init_wh1 = wh1\n",
        "init_wh2 = wh2\n",
        "init_wo = wo\n",
        "\n",
        "lambd = 0.02\n",
        "alpha = 0.005\n",
        "N = X.shape[0]\n",
        "\n",
        "for trial in range(Ntrials):     \n",
        "    h1=1/(1+np.exp(-(X.dot(wh1)))) #hidden activation for all pattern y=1/(1+np.exp(-X.dot(wo)))\n",
        "    h2=1/(1+np.exp(-(h1.dot(wh2))))\n",
        "    y=1/(1+np.exp(-(h2.dot(wo)))) #output for all pattern y=1/(1+np.exp(-X.dot(wo)))\n",
        "\n",
        "    do=y*(1-y)*(Y-y)  # delta output\n",
        "    dh2=h2*(1-h2)*(do.dot(wo.T)) #(do@wo.transpose())  # delta backpropagated  \n",
        "    dh1=h1*(1-h1)*(dh2.dot(wh2.T))\n",
        "\n",
        "    # update weights with momentum\n",
        "    dwo=0.9*dwo+h2.T.dot(do) #@do  #dwo=0.9*dwo+((X.T).dot(do)) #do@X.T\n",
        "    wo=wo + (1/N)*alpha*dwo # wo=wo+0.005*dwo\n",
        "    dwh2=0.9*dwh2+(h1.T.dot(dh2))\n",
        "    wh2=wh2 + (1/N)*alpha*dwh2 # wh2=wh2 + 0.005*dwh2\n",
        "    dwh1=0.9*dwh1+(X.T.dot(dh1))\n",
        "    wh1=wh1 + (1/N)*alpha*dwh1 # wh1=wh1 + 0.005*dwh1\n",
        "    \n",
        "    error=np.append(error,np.sum(abs(Y-y))/X.shape[0])\n",
        "    loss=np.append(loss,np.sum((Y-y)**2)/X.shape[0])\n",
        "\n",
        "from IPython.display import set_matplotlib_formats\n",
        "set_matplotlib_formats('pdf', 'png')\n",
        "\n",
        "plt.xlabel(\"Iteration\")\n",
        "plt.ylabel(\"Absolute difference\")\n",
        "plt.plot(error)\n",
        "plt.show()\n",
        "plt.xlabel(\"Iteration\")\n",
        "plt.ylabel(\"mean square error\")\n",
        "plt.plot(loss)\n",
        "plt.show()"
      ],
      "execution_count": 145,
      "outputs": [
        {
          "output_type": "display_data",
          "data": {
            "image/png": "[encoded data removed]",
            "application/pdf": "[encoded data removed]",
            "text/plain": [
              "<Figure size 432x288 with 1 Axes>"
            ]
          },
          "metadata": {
            "tags": [],
            "needs_background": "light"
          }
        },
        {
          "output_type": "display_data",
          "data": {
            "image/png": "[encoded data removed]",
            "application/pdf": "[encoded data removed]",
            "text/plain": [
              "<Figure size 432x288 with 1 Axes>"
            ]
          },
          "metadata": {
            "tags": [],
            "needs_background": "light"
          }
        }
      ]
    },
    {
      "cell_type": "code",
      "metadata": {
        "id": "Ao85Itgx4E9b"
      },
      "source": [
        ""
      ],
      "execution_count": null,
      "outputs": []
    }
  ]
}